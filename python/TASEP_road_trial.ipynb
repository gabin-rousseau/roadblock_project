{
 "cells": [
  {
   "cell_type": "markdown",
   "id": "b7837669",
   "metadata": {},
   "source": [
    "author: Gabin ROUSSEAU\n",
    "Project: Computer simulation of a roadblock model of translational control\n",
    "\n",
    "Practice formatting a TASEP simulation to the scipy solve_ivp ODE solver to then refine the model to fit Ssd1 roadblocking in translation initiation.\n",
    "\n",
    "In Bartlomiej Waclaw's Wolfram demonstration from 2018, TASEP (Totally Asymmetric Simple Exclusion Process) is described as:\n",
    "A lattice model in which particles hop into a one-dimensional lattice from one end with a r<sub>in</sub>, hop along lattice units with rate 1 and exit from the other end with a rate r<sub>out</sub>.\n",
    "Both r<sub>in</sub> and r<sub>out</sub> are equal to or inferior to 1, and only one particle can occupy a site (the next site needs to be empty to be accessed.)\n",
    "The model shows phase transitions between low-density = limited by r<sub>in</sub>, high-density = limited by r<sub>out</sub> and maximum-current.\n",
    "\n",
    "In addition to initiation and termination rates, the lattice is also defined by its length L (recommend from 3 to 100). The demonstration also gives control of the simulation speed = how many iterations pass before the interface is actualised.\n",
    "\n",
    "Down the line, I already know I will need to take into account Ssd1. If Ssd1 can be modeled by a roadblock attaching itself to a specific site, which means the model would need a way to qualify sites for roadblock binding.\n",
    "\n",
    "\n",
    " \t\n",
    "https://doi.org/10.48550/arXiv.2308.00847 TASEPy: a Python-based package to iteratively solve the inhomogeneous exclusion process (Juraj's)\n",
    "See section 2:\n",
    "can model 43S as a particle of footprint 50 on a lattice of 250 units (base pairs)?\n"
   ]
  },
  {
   "cell_type": "code",
   "execution_count": null,
   "id": "1c52bc58",
   "metadata": {},
   "outputs": [],
   "source": [
    "#First let's try to formulate a TASEP problem via the Python solver:\n",
    "#The following blocks will attempt to solve a system that follows the TASEP principle with a L=3 lattice and l=1 particles with a set on and off-rate. We will start by measuring how many particles passed through the lattice over time.\n",
    "\n",
    "#Import necessary packages\n",
    "import matplotlib.pyplot as plt\n",
    "%matplotlib inline\n",
    "import numpy as np\n",
    "import seaborn as sns\n",
    "from scipy.integrate import solve_ivp\n",
    "sns.set(style=\"darkgrid\")\n",
    "\n"
   ]
  },
  {
   "cell_type": "code",
   "execution_count": null,
   "id": "a3c9e866",
   "metadata": {},
   "outputs": [],
   "source": [
    "#The TASEP system is defined by the following equations, where I is an initial particle ready to enter the lattice, F a final particle that exited the lattice;\n",
    "#En = empty unit of index n (n= 1, ..., 3); Xn = occupied unit of index n.\n",
    "#I + E1 -r-> X1 ==> E1 -ron-> X1 because I is assumed to be constance: ron = r * I\n",
    "#X1 + E2 -r1-> E1 + X2 \n",
    "#X2 + E3 -r2-> E2 + X3\n",
    "#X3 -roff-> F\n",
    "#Define the system changes per iteration and  iteration cycle\n",
    "#Variables: E1,2,3, X1,2,3, F\n",
    "#exclusion principle needed, seek a rule-based formalism before thinking about solving\n",
    "#--> per iteration, select n-times a random particle in the lattice and check if it can move, if so pass it to the next locale\n",
    "\n",
    "ron=1\n",
    "\n",
    "dS_dt = lambda t, s: \n",
    "t_eval = np.arange(0, 16, 1)\n",
    "\n"
   ]
  },
  {
   "cell_type": "code",
   "execution_count": null,
   "id": "ac794668",
   "metadata": {},
   "outputs": [],
   "source": [
    "#Solve the system with scipy solve_ivp\n",
    "sol = solve_ivp(dS_dt, [0, 16], [0,0.1], t_eval=t_eval)\n",
    "\n",
    "solA = sol.y[0]\n",
    "solX = sol.y[1] \n",
    "\n",
    "    \n"
   ]
  },
  {
   "cell_type": "code",
   "execution_count": null,
   "id": "f902d056",
   "metadata": {},
   "outputs": [],
   "source": [
    "plt.figure(figsize = (12, 4))\n",
    "plt.subplot(121)\n",
    "sns.scatterplot(x=sol.t, y=solA, color=\"blue\")\n",
    "sns.scatterplot(x=sol.t, y=solX, color=\"orange\")\n",
    "plt.xlabel('t')\n",
    "plt.ylabel('Concentration')\n",
    "plt.xticks(t_eval)\n",
    "plt.legend(labels=[\"A\", \"X\"], title=\"Reaction Molecules\")\n",
    "plt.tight_layout()\n",
    "plt.show();"
   ]
  }
 ],
 "metadata": {
  "kernelspec": {
   "display_name": "Python 3 (ipykernel)",
   "language": "python",
   "name": "python3"
  },
  "language_info": {
   "codemirror_mode": {
    "name": "ipython",
    "version": 3
   },
   "file_extension": ".py",
   "mimetype": "text/x-python",
   "name": "python",
   "nbconvert_exporter": "python",
   "pygments_lexer": "ipython3",
   "version": "3.11.5"
  }
 },
 "nbformat": 4,
 "nbformat_minor": 5
}
